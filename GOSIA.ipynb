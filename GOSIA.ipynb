{
 "cells": [
  {
   "cell_type": "code",
   "execution_count": 1,
   "metadata": {},
   "outputs": [],
   "source": [
    "# Import the class to read the file galaxies.hdf5\n",
    "from GalformRun_basic import * \n",
    "import pandas as pd\n",
    "\n",
    "%matplotlib inline\n",
    "import matplotlib \n",
    "matplotlib.rc('xtick', labelsize=10) \n",
    "matplotlib.rc('ytick', labelsize=10)\n",
    "matplotlib.rcParams.update({'font.size': 20})"
   ]
  },
  {
   "cell_type": "code",
   "execution_count": 4,
   "metadata": {},
   "outputs": [],
   "source": [
    "#snap 37 ==> 1.1734\n",
    "#snap 42 ==> 0.755036\n",
    "\n",
    "def Create_data(volume=0,\n",
    "                snap=42,\n",
    "                zsnap=0.755036,\n",
    "                feedback=True,\n",
    "                extinction=True,\n",
    "                input_folder='/data/dega2/dc-manz2/Galform_Out/v2.7.0/stable/MillGas/',\n",
    "                output_folder='/data/dega2/dc-manz2/Galform_Out/GOSIA/'):\n",
    "    \n",
    "    '''Function to read the output of Galform and write it in the output folder as specified'''\n",
    "    #create right path\n",
    "    if feedback: \n",
    "        fb = 'gp14'\n",
    "        fb_save = 'feedback'\n",
    "    else: \n",
    "        fb = 'gp14.nofeedback'\n",
    "        fb_save= 'nofeedback'\n",
    "        \n",
    "    path = input_folder+fb+'/iz'+str(snap)+'/ivol'+str(volume)+'/'\n",
    "    #path= '../data/uvi'+str(snap)+'_'+fb+'_vol'+str(volume)+'.txt'\n",
    "    print(\"READ : \", path)\n",
    "    #read data from galaxies.hdf5 using the class GalformRun\n",
    "    G = GalformRun(path)\n",
    "    if extinction:\n",
    "        ext=''\n",
    "        u = np.array(G.get(\"mag_SDSS-u_r_tot_ext\",zsnap,filename='tosedfit.hdf5'))\n",
    "        g = np.array(G.get(\"mag_SDSS-g_r_tot_ext\",zsnap,filename='tosedfit.hdf5'))    \n",
    "        r = np.array(G.get(\"mag_SDSS-r_r_tot_ext\",zsnap,filename='tosedfit.hdf5'))\n",
    "        i = np.array(G.get(\"mag_SDSS-i_o_tot_ext\",zsnap,filename='tosedfit.hdf5'))\n",
    "        z = np.array(G.get(\"mag_SDSS-z_r_tot_ext\",zsnap,filename='tosedfit.hdf5'))\n",
    "        B = np.array(G.get(\"mag_B_r_tot_ext\",zsnap,filename='tosedfit.hdf5'))\n",
    "        V = np.array(G.get(\"mag_V_r_tot_ext\",zsnap,filename='tosedfit.hdf5'))\n",
    "        J = np.array(G.get(\"mag_UKIRT-J_r_tot_ext\",zsnap,filename='tosedfit.hdf5'))\n",
    "        H = np.array(G.get(\"mag_UKIRT-H_r_tot_ext\",zsnap,filename='tosedfit.hdf5'))\n",
    "        K = np.array(G.get(\"mag_UKIRT-K_r_tot_ext\",zsnap,filename='tosedfit.hdf5'))\n",
    "        NUV = np.array(G.get(\"mag_GALEX-NUV_r_tot_ext\",zsnap,filename='tosedfit.hdf5'))\n",
    "        FUV = np.array(G.get(\"mag_GALEX-FUV_r_tot_ext\",zsnap,filename='tosedfit.hdf5'))\n",
    "    else:\n",
    "        ext='_no_ext'\n",
    "        u = np.array(G.get(\"mag_SDSS-u_r_tot\",zsnap,filename='tosedfit.hdf5'))\n",
    "        g = np.array(G.get(\"mag_SDSS-g_r_tot\",zsnap,filename='tosedfit.hdf5'))    \n",
    "        r = np.array(G.get(\"mag_SDSS-r_r_tot\",zsnap,filename='tosedfit.hdf5'))\n",
    "        i = np.array(G.get(\"mag_SDSS-i_o_tot\",zsnap,filename='tosedfit.hdf5'))\n",
    "        z = np.array(G.get(\"mag_SDSS-z_r_tot\",zsnap,filename='tosedfit.hdf5'))\n",
    "        B = np.array(G.get(\"mag_B_r_tot\",zsnap,filename='tosedfit.hdf5'))\n",
    "        V = np.array(G.get(\"mag_V_r_tot\",zsnap,filename='tosedfit.hdf5'))\n",
    "        J = np.array(G.get(\"mag_UKIRT-J_r_tot\",zsnap,filename='tosedfit.hdf5'))\n",
    "        H = np.array(G.get(\"mag_UKIRT-H_r_tot\",zsnap,filename='tosedfit.hdf5'))\n",
    "        K = np.array(G.get(\"mag_UKIRT-K_r_tot\",zsnap,filename='tosedfit.hdf5'))\n",
    "        NUV = np.array(G.get(\"mag_GALEX-NUV_r_tot\",zsnap,filename='tosedfit.hdf5'))\n",
    "        FUV = np.array(G.get(\"mag_GALEX-FUV_r_tot\",zsnap,filename='tosedfit.hdf5'))\n",
    "        \n",
    "    mass = np.array(G.get(\"mstars_tot\",zsnap,filename='tosedfit.hdf5'))\n",
    "    tp = np.array(G.get(\"type\",zsnap,filename='tosedfit.hdf5'))\n",
    "\n",
    "    #crete pandas dataframe with data\n",
    "    df = pd.DataFrame(data={'u':u , 'g':g ,'r':r , 'i':i, 'z':z , 'B':B, 'V':V, 'J':J,'H':H,'K':K,'NUV':NUV,'FUV':FUV,'stellarmass':mass, 'type':tp})\n",
    "    #save dataframe in a txt file\n",
    "    output_name= output_folder+'giorgio_galform_'+str(snap)+'_'+fb_save+'_vol'+str(volume)+ext+'.txt' \n",
    "    df.to_csv(output_name ,index=None,sep=' ')\n",
    "    print(\"WRITE: \", output_name)\n",
    "    return u,g,r,i,z,B,V,J,H,K,NUV,FUV,mass,tp"
   ]
  },
  {
   "cell_type": "code",
   "execution_count": 5,
   "metadata": {},
   "outputs": [
    {
     "name": "stdout",
     "output_type": "stream",
     "text": [
      "READ :  /data/dega2/dc-manz2/Galform_Out/v2.7.0/stable/MillGas/gp14/iz42/ivol0/\n",
      "WRITE:  /data/dega2/dc-manz2/Galform_Out/GOSIA/giorgio_galform_42_feedback_vol0_no_ext.txt\n"
     ]
    }
   ],
   "source": [
    "u,g,r,i,z,B,V,J,H,K,NUV,FUV,mass,tp = Create_data(volume=0,snap=42,zsnap=0.755036,feedback=True,extinction=False, output_folder='/data/dega2/dc-manz2/Galform_Out/GOSIA/')"
   ]
  },
  {
   "cell_type": "code",
   "execution_count": 6,
   "metadata": {},
   "outputs": [
    {
     "data": {
      "text/plain": [
       "(array([5.9000e+01, 6.9800e+02, 2.5220e+03, 3.5810e+03, 2.0630e+03,\n",
       "        2.5680e+03, 5.3100e+03, 5.7200e+03, 9.8960e+03, 1.5928e+04,\n",
       "        2.5250e+04, 3.4877e+04, 4.2659e+04, 4.6254e+04, 4.5784e+04,\n",
       "        4.1495e+04, 3.4353e+04, 2.8622e+04, 2.2312e+04, 1.6470e+04,\n",
       "        1.2540e+04, 1.0020e+04, 8.2990e+03, 6.1200e+03, 4.2410e+03,\n",
       "        3.2720e+03, 2.9930e+03, 2.1070e+03, 3.4700e+02, 2.9000e+01]),\n",
       " array([ 4.3781991 ,  4.61238557,  4.84657205,  5.08075852,  5.314945  ,\n",
       "         5.54913147,  5.78331795,  6.01750442,  6.2516909 ,  6.48587737,\n",
       "         6.72006385,  6.95425032,  7.18843679,  7.42262327,  7.65680974,\n",
       "         7.89099622,  8.12518269,  8.35936917,  8.59355564,  8.82774212,\n",
       "         9.06192859,  9.29611506,  9.53030154,  9.76448801,  9.99867449,\n",
       "        10.23286096, 10.46704744, 10.70123391, 10.93542039, 11.16960686,\n",
       "        11.40379333]),\n",
       " <a list of 30 Patch objects>)"
      ]
     },
     "execution_count": 6,
     "metadata": {},
     "output_type": "execute_result"
    },
    {
     "data": {
      "image/png": "[encoded data removed]",
      "text/plain": [
       "<Figure size 432x288 with 1 Axes>"
      ]
     },
     "metadata": {},
     "output_type": "display_data"
    }
   ],
   "source": [
    "plt.hist(np.log10(mass),bins=30)"
   ]
  },
  {
   "cell_type": "markdown",
   "metadata": {},
   "source": [
    "# Create data"
   ]
  },
  {
   "cell_type": "code",
   "execution_count": 7,
   "metadata": {},
   "outputs": [
    {
     "name": "stdout",
     "output_type": "stream",
     "text": [
      "READ :  /data/dega2/dc-manz2/Galform_Out/v2.7.0/stable/MillGas/gp14/iz42/ivol0/\n",
      "WRITE:  /data/dega2/dc-manz2/Galform_Out/GOSIA/giorgio_galform_42_feedback_vol0_no_ext.txt\n",
      "READ :  /data/dega2/dc-manz2/Galform_Out/v2.7.0/stable/MillGas/gp14/iz42/ivol1/\n",
      "WRITE:  /data/dega2/dc-manz2/Galform_Out/GOSIA/giorgio_galform_42_feedback_vol1_no_ext.txt\n",
      "READ :  /data/dega2/dc-manz2/Galform_Out/v2.7.0/stable/MillGas/gp14/iz42/ivol2/\n",
      "WRITE:  /data/dega2/dc-manz2/Galform_Out/GOSIA/giorgio_galform_42_feedback_vol2_no_ext.txt\n",
      "READ :  /data/dega2/dc-manz2/Galform_Out/v2.7.0/stable/MillGas/gp14/iz42/ivol3/\n",
      "WRITE:  /data/dega2/dc-manz2/Galform_Out/GOSIA/giorgio_galform_42_feedback_vol3_no_ext.txt\n",
      "READ :  /data/dega2/dc-manz2/Galform_Out/v2.7.0/stable/MillGas/gp14/iz42/ivol4/\n",
      "WRITE:  /data/dega2/dc-manz2/Galform_Out/GOSIA/giorgio_galform_42_feedback_vol4_no_ext.txt\n",
      "READ :  /data/dega2/dc-manz2/Galform_Out/v2.7.0/stable/MillGas/gp14/iz42/ivol5/\n",
      "WRITE:  /data/dega2/dc-manz2/Galform_Out/GOSIA/giorgio_galform_42_feedback_vol5_no_ext.txt\n",
      "READ :  /data/dega2/dc-manz2/Galform_Out/v2.7.0/stable/MillGas/gp14/iz42/ivol6/\n",
      "WRITE:  /data/dega2/dc-manz2/Galform_Out/GOSIA/giorgio_galform_42_feedback_vol6_no_ext.txt\n",
      "READ :  /data/dega2/dc-manz2/Galform_Out/v2.7.0/stable/MillGas/gp14/iz42/ivol7/\n",
      "WRITE:  /data/dega2/dc-manz2/Galform_Out/GOSIA/giorgio_galform_42_feedback_vol7_no_ext.txt\n",
      "READ :  /data/dega2/dc-manz2/Galform_Out/v2.7.0/stable/MillGas/gp14/iz42/ivol8/\n",
      "WRITE:  /data/dega2/dc-manz2/Galform_Out/GOSIA/giorgio_galform_42_feedback_vol8_no_ext.txt\n",
      "READ :  /data/dega2/dc-manz2/Galform_Out/v2.7.0/stable/MillGas/gp14/iz42/ivol9/\n",
      "WRITE:  /data/dega2/dc-manz2/Galform_Out/GOSIA/giorgio_galform_42_feedback_vol9_no_ext.txt\n",
      "READ :  /data/dega2/dc-manz2/Galform_Out/v2.7.0/stable/MillGas/gp14/iz42/ivol10/\n",
      "WRITE:  /data/dega2/dc-manz2/Galform_Out/GOSIA/giorgio_galform_42_feedback_vol10_no_ext.txt\n",
      "READ :  /data/dega2/dc-manz2/Galform_Out/v2.7.0/stable/MillGas/gp14/iz42/ivol11/\n",
      "WRITE:  /data/dega2/dc-manz2/Galform_Out/GOSIA/giorgio_galform_42_feedback_vol11_no_ext.txt\n",
      "READ :  /data/dega2/dc-manz2/Galform_Out/v2.7.0/stable/MillGas/gp14/iz42/ivol12/\n",
      "WRITE:  /data/dega2/dc-manz2/Galform_Out/GOSIA/giorgio_galform_42_feedback_vol12_no_ext.txt\n",
      "READ :  /data/dega2/dc-manz2/Galform_Out/v2.7.0/stable/MillGas/gp14/iz42/ivol13/\n",
      "WRITE:  /data/dega2/dc-manz2/Galform_Out/GOSIA/giorgio_galform_42_feedback_vol13_no_ext.txt\n",
      "READ :  /data/dega2/dc-manz2/Galform_Out/v2.7.0/stable/MillGas/gp14/iz42/ivol14/\n",
      "WRITE:  /data/dega2/dc-manz2/Galform_Out/GOSIA/giorgio_galform_42_feedback_vol14_no_ext.txt\n",
      "READ :  /data/dega2/dc-manz2/Galform_Out/v2.7.0/stable/MillGas/gp14/iz42/ivol15/\n",
      "WRITE:  /data/dega2/dc-manz2/Galform_Out/GOSIA/giorgio_galform_42_feedback_vol15_no_ext.txt\n",
      "READ :  /data/dega2/dc-manz2/Galform_Out/v2.7.0/stable/MillGas/gp14/iz42/ivol16/\n",
      "WRITE:  /data/dega2/dc-manz2/Galform_Out/GOSIA/giorgio_galform_42_feedback_vol16_no_ext.txt\n",
      "READ :  /data/dega2/dc-manz2/Galform_Out/v2.7.0/stable/MillGas/gp14/iz42/ivol17/\n",
      "WRITE:  /data/dega2/dc-manz2/Galform_Out/GOSIA/giorgio_galform_42_feedback_vol17_no_ext.txt\n",
      "READ :  /data/dega2/dc-manz2/Galform_Out/v2.7.0/stable/MillGas/gp14/iz42/ivol18/\n",
      "WRITE:  /data/dega2/dc-manz2/Galform_Out/GOSIA/giorgio_galform_42_feedback_vol18_no_ext.txt\n",
      "READ :  /data/dega2/dc-manz2/Galform_Out/v2.7.0/stable/MillGas/gp14/iz42/ivol19/\n",
      "WRITE:  /data/dega2/dc-manz2/Galform_Out/GOSIA/giorgio_galform_42_feedback_vol19_no_ext.txt\n",
      "READ :  /data/dega2/dc-manz2/Galform_Out/v2.7.0/stable/MillGas/gp14/iz42/ivol20/\n",
      "WRITE:  /data/dega2/dc-manz2/Galform_Out/GOSIA/giorgio_galform_42_feedback_vol20_no_ext.txt\n",
      "READ :  /data/dega2/dc-manz2/Galform_Out/v2.7.0/stable/MillGas/gp14/iz42/ivol21/\n",
      "WRITE:  /data/dega2/dc-manz2/Galform_Out/GOSIA/giorgio_galform_42_feedback_vol21_no_ext.txt\n",
      "READ :  /data/dega2/dc-manz2/Galform_Out/v2.7.0/stable/MillGas/gp14/iz42/ivol22/\n",
      "WRITE:  /data/dega2/dc-manz2/Galform_Out/GOSIA/giorgio_galform_42_feedback_vol22_no_ext.txt\n",
      "READ :  /data/dega2/dc-manz2/Galform_Out/v2.7.0/stable/MillGas/gp14/iz42/ivol23/\n",
      "WRITE:  /data/dega2/dc-manz2/Galform_Out/GOSIA/giorgio_galform_42_feedback_vol23_no_ext.txt\n",
      "READ :  /data/dega2/dc-manz2/Galform_Out/v2.7.0/stable/MillGas/gp14/iz42/ivol24/\n",
      "WRITE:  /data/dega2/dc-manz2/Galform_Out/GOSIA/giorgio_galform_42_feedback_vol24_no_ext.txt\n",
      "READ :  /data/dega2/dc-manz2/Galform_Out/v2.7.0/stable/MillGas/gp14/iz42/ivol25/\n",
      "WRITE:  /data/dega2/dc-manz2/Galform_Out/GOSIA/giorgio_galform_42_feedback_vol25_no_ext.txt\n",
      "READ :  /data/dega2/dc-manz2/Galform_Out/v2.7.0/stable/MillGas/gp14/iz42/ivol26/\n",
      "WRITE:  /data/dega2/dc-manz2/Galform_Out/GOSIA/giorgio_galform_42_feedback_vol26_no_ext.txt\n",
      "READ :  /data/dega2/dc-manz2/Galform_Out/v2.7.0/stable/MillGas/gp14/iz42/ivol27/\n",
      "WRITE:  /data/dega2/dc-manz2/Galform_Out/GOSIA/giorgio_galform_42_feedback_vol27_no_ext.txt\n",
      "READ :  /data/dega2/dc-manz2/Galform_Out/v2.7.0/stable/MillGas/gp14/iz42/ivol28/\n",
      "WRITE:  /data/dega2/dc-manz2/Galform_Out/GOSIA/giorgio_galform_42_feedback_vol28_no_ext.txt\n",
      "READ :  /data/dega2/dc-manz2/Galform_Out/v2.7.0/stable/MillGas/gp14/iz42/ivol29/\n",
      "WRITE:  /data/dega2/dc-manz2/Galform_Out/GOSIA/giorgio_galform_42_feedback_vol29_no_ext.txt\n",
      "READ :  /data/dega2/dc-manz2/Galform_Out/v2.7.0/stable/MillGas/gp14/iz42/ivol30/\n",
      "WRITE:  /data/dega2/dc-manz2/Galform_Out/GOSIA/giorgio_galform_42_feedback_vol30_no_ext.txt\n",
      "READ :  /data/dega2/dc-manz2/Galform_Out/v2.7.0/stable/MillGas/gp14/iz42/ivol31/\n",
      "WRITE:  /data/dega2/dc-manz2/Galform_Out/GOSIA/giorgio_galform_42_feedback_vol31_no_ext.txt\n",
      "READ :  /data/dega2/dc-manz2/Galform_Out/v2.7.0/stable/MillGas/gp14/iz42/ivol32/\n",
      "WRITE:  /data/dega2/dc-manz2/Galform_Out/GOSIA/giorgio_galform_42_feedback_vol32_no_ext.txt\n",
      "READ :  /data/dega2/dc-manz2/Galform_Out/v2.7.0/stable/MillGas/gp14/iz42/ivol33/\n",
      "WRITE:  /data/dega2/dc-manz2/Galform_Out/GOSIA/giorgio_galform_42_feedback_vol33_no_ext.txt\n",
      "READ :  /data/dega2/dc-manz2/Galform_Out/v2.7.0/stable/MillGas/gp14/iz42/ivol34/\n",
      "WRITE:  /data/dega2/dc-manz2/Galform_Out/GOSIA/giorgio_galform_42_feedback_vol34_no_ext.txt\n",
      "READ :  /data/dega2/dc-manz2/Galform_Out/v2.7.0/stable/MillGas/gp14/iz42/ivol35/\n",
      "WRITE:  /data/dega2/dc-manz2/Galform_Out/GOSIA/giorgio_galform_42_feedback_vol35_no_ext.txt\n",
      "READ :  /data/dega2/dc-manz2/Galform_Out/v2.7.0/stable/MillGas/gp14/iz42/ivol36/\n",
      "WRITE:  /data/dega2/dc-manz2/Galform_Out/GOSIA/giorgio_galform_42_feedback_vol36_no_ext.txt\n",
      "READ :  /data/dega2/dc-manz2/Galform_Out/v2.7.0/stable/MillGas/gp14/iz42/ivol37/\n",
      "WRITE:  /data/dega2/dc-manz2/Galform_Out/GOSIA/giorgio_galform_42_feedback_vol37_no_ext.txt\n",
      "READ :  /data/dega2/dc-manz2/Galform_Out/v2.7.0/stable/MillGas/gp14/iz42/ivol38/\n",
      "WRITE:  /data/dega2/dc-manz2/Galform_Out/GOSIA/giorgio_galform_42_feedback_vol38_no_ext.txt\n",
      "READ :  /data/dega2/dc-manz2/Galform_Out/v2.7.0/stable/MillGas/gp14/iz42/ivol39/\n",
      "WRITE:  /data/dega2/dc-manz2/Galform_Out/GOSIA/giorgio_galform_42_feedback_vol39_no_ext.txt\n",
      "READ :  /data/dega2/dc-manz2/Galform_Out/v2.7.0/stable/MillGas/gp14/iz42/ivol40/\n",
      "WRITE:  /data/dega2/dc-manz2/Galform_Out/GOSIA/giorgio_galform_42_feedback_vol40_no_ext.txt\n",
      "READ :  /data/dega2/dc-manz2/Galform_Out/v2.7.0/stable/MillGas/gp14/iz42/ivol41/\n",
      "WRITE:  /data/dega2/dc-manz2/Galform_Out/GOSIA/giorgio_galform_42_feedback_vol41_no_ext.txt\n",
      "READ :  /data/dega2/dc-manz2/Galform_Out/v2.7.0/stable/MillGas/gp14/iz42/ivol42/\n",
      "WRITE:  /data/dega2/dc-manz2/Galform_Out/GOSIA/giorgio_galform_42_feedback_vol42_no_ext.txt\n",
      "READ :  /data/dega2/dc-manz2/Galform_Out/v2.7.0/stable/MillGas/gp14/iz42/ivol43/\n",
      "WRITE:  /data/dega2/dc-manz2/Galform_Out/GOSIA/giorgio_galform_42_feedback_vol43_no_ext.txt\n",
      "READ :  /data/dega2/dc-manz2/Galform_Out/v2.7.0/stable/MillGas/gp14/iz42/ivol44/\n",
      "WRITE:  /data/dega2/dc-manz2/Galform_Out/GOSIA/giorgio_galform_42_feedback_vol44_no_ext.txt\n",
      "READ :  /data/dega2/dc-manz2/Galform_Out/v2.7.0/stable/MillGas/gp14/iz42/ivol45/\n",
      "WRITE:  /data/dega2/dc-manz2/Galform_Out/GOSIA/giorgio_galform_42_feedback_vol45_no_ext.txt\n",
      "READ :  /data/dega2/dc-manz2/Galform_Out/v2.7.0/stable/MillGas/gp14/iz42/ivol46/\n",
      "WRITE:  /data/dega2/dc-manz2/Galform_Out/GOSIA/giorgio_galform_42_feedback_vol46_no_ext.txt\n",
      "READ :  /data/dega2/dc-manz2/Galform_Out/v2.7.0/stable/MillGas/gp14/iz42/ivol47/\n",
      "WRITE:  /data/dega2/dc-manz2/Galform_Out/GOSIA/giorgio_galform_42_feedback_vol47_no_ext.txt\n",
      "READ :  /data/dega2/dc-manz2/Galform_Out/v2.7.0/stable/MillGas/gp14/iz42/ivol48/\n"
     ]
    },
    {
     "name": "stdout",
     "output_type": "stream",
     "text": [
      "WRITE:  /data/dega2/dc-manz2/Galform_Out/GOSIA/giorgio_galform_42_feedback_vol48_no_ext.txt\n",
      "READ :  /data/dega2/dc-manz2/Galform_Out/v2.7.0/stable/MillGas/gp14/iz42/ivol49/\n",
      "WRITE:  /data/dega2/dc-manz2/Galform_Out/GOSIA/giorgio_galform_42_feedback_vol49_no_ext.txt\n",
      "READ :  /data/dega2/dc-manz2/Galform_Out/v2.7.0/stable/MillGas/gp14/iz42/ivol50/\n",
      "WRITE:  /data/dega2/dc-manz2/Galform_Out/GOSIA/giorgio_galform_42_feedback_vol50_no_ext.txt\n",
      "READ :  /data/dega2/dc-manz2/Galform_Out/v2.7.0/stable/MillGas/gp14/iz42/ivol51/\n",
      "WRITE:  /data/dega2/dc-manz2/Galform_Out/GOSIA/giorgio_galform_42_feedback_vol51_no_ext.txt\n",
      "READ :  /data/dega2/dc-manz2/Galform_Out/v2.7.0/stable/MillGas/gp14/iz42/ivol52/\n",
      "WRITE:  /data/dega2/dc-manz2/Galform_Out/GOSIA/giorgio_galform_42_feedback_vol52_no_ext.txt\n",
      "READ :  /data/dega2/dc-manz2/Galform_Out/v2.7.0/stable/MillGas/gp14/iz42/ivol53/\n",
      "WRITE:  /data/dega2/dc-manz2/Galform_Out/GOSIA/giorgio_galform_42_feedback_vol53_no_ext.txt\n",
      "READ :  /data/dega2/dc-manz2/Galform_Out/v2.7.0/stable/MillGas/gp14/iz42/ivol54/\n",
      "WRITE:  /data/dega2/dc-manz2/Galform_Out/GOSIA/giorgio_galform_42_feedback_vol54_no_ext.txt\n",
      "READ :  /data/dega2/dc-manz2/Galform_Out/v2.7.0/stable/MillGas/gp14/iz42/ivol55/\n",
      "WRITE:  /data/dega2/dc-manz2/Galform_Out/GOSIA/giorgio_galform_42_feedback_vol55_no_ext.txt\n",
      "READ :  /data/dega2/dc-manz2/Galform_Out/v2.7.0/stable/MillGas/gp14/iz42/ivol56/\n",
      "WRITE:  /data/dega2/dc-manz2/Galform_Out/GOSIA/giorgio_galform_42_feedback_vol56_no_ext.txt\n",
      "READ :  /data/dega2/dc-manz2/Galform_Out/v2.7.0/stable/MillGas/gp14/iz42/ivol57/\n",
      "WRITE:  /data/dega2/dc-manz2/Galform_Out/GOSIA/giorgio_galform_42_feedback_vol57_no_ext.txt\n",
      "READ :  /data/dega2/dc-manz2/Galform_Out/v2.7.0/stable/MillGas/gp14/iz42/ivol58/\n",
      "WRITE:  /data/dega2/dc-manz2/Galform_Out/GOSIA/giorgio_galform_42_feedback_vol58_no_ext.txt\n",
      "READ :  /data/dega2/dc-manz2/Galform_Out/v2.7.0/stable/MillGas/gp14/iz42/ivol59/\n",
      "WRITE:  /data/dega2/dc-manz2/Galform_Out/GOSIA/giorgio_galform_42_feedback_vol59_no_ext.txt\n",
      "READ :  /data/dega2/dc-manz2/Galform_Out/v2.7.0/stable/MillGas/gp14/iz42/ivol60/\n",
      "WRITE:  /data/dega2/dc-manz2/Galform_Out/GOSIA/giorgio_galform_42_feedback_vol60_no_ext.txt\n",
      "READ :  /data/dega2/dc-manz2/Galform_Out/v2.7.0/stable/MillGas/gp14/iz42/ivol61/\n",
      "WRITE:  /data/dega2/dc-manz2/Galform_Out/GOSIA/giorgio_galform_42_feedback_vol61_no_ext.txt\n",
      "READ :  /data/dega2/dc-manz2/Galform_Out/v2.7.0/stable/MillGas/gp14/iz42/ivol62/\n",
      "WRITE:  /data/dega2/dc-manz2/Galform_Out/GOSIA/giorgio_galform_42_feedback_vol62_no_ext.txt\n",
      "READ :  /data/dega2/dc-manz2/Galform_Out/v2.7.0/stable/MillGas/gp14/iz42/ivol63/\n",
      "WRITE:  /data/dega2/dc-manz2/Galform_Out/GOSIA/giorgio_galform_42_feedback_vol63_no_ext.txt\n"
     ]
    }
   ],
   "source": [
    "for v in range(0,64):\n",
    "    Create_data(volume=v,snap=42,zsnap=0.755036,feedback=True,extinction=False,output_folder='/data/dega2/dc-manz2/Galform_Out/GOSIA/')"
   ]
  },
  {
   "cell_type": "code",
   "execution_count": null,
   "metadata": {},
   "outputs": [],
   "source": []
  },
  {
   "cell_type": "markdown",
   "metadata": {},
   "source": [
    "# Add subvolumes"
   ]
  },
  {
   "cell_type": "code",
   "execution_count": 10,
   "metadata": {},
   "outputs": [],
   "source": [
    "def Add_subvolumes(snap=42,feedback=True,N_sub_volumes=1,extinction=True,data_folder='/data/dega2/dc-manz2/Galform_Out/GOSIA/'):\n",
    "    '''Read all the subvolumes (0 to N_sub_volumes) for the specified snapshot and for the specified AGN feedback scenario'''\n",
    "    u_tot = []\n",
    "    g_tot = []\n",
    "    r_tot = []\n",
    "    i_tot = []\n",
    "    z_tot = []\n",
    "    \n",
    "    B_tot = []\n",
    "    V_tot = []\n",
    "    J_tot = []\n",
    "    H_tot = []\n",
    "    K_tot = []\n",
    "    NUV_tot = []\n",
    "    FUV_tot = []\n",
    "    \n",
    "    \n",
    "    mass_tot = []\n",
    "    type_tot = []\n",
    "    \n",
    "    if extinction:\n",
    "        ext=''\n",
    "    else:\n",
    "        ext='_no_ext'\n",
    "    \n",
    "    for i_vol in range(N_sub_volumes):\n",
    "        \n",
    "        if feedback: \n",
    "            fb_save = 'feedback'\n",
    "        else: \n",
    "            fb_save= 'nofeedback'\n",
    "        \n",
    "        data = pd.read_csv(data_folder+'giorgio_galform_'+str(snap)+'_'+fb_save+'_vol'+str(i_vol)+ext+'.txt',delimiter=' ')\n",
    "        #print(data['u'][0])\n",
    "\n",
    "        \n",
    "        u_tot = np.concatenate((u_tot,data['u']))\n",
    "        g_tot = np.concatenate((g_tot,data['g']))\n",
    "        r_tot = np.concatenate((r_tot,data['r']))\n",
    "        i_tot = np.concatenate((i_tot,data['i']))\n",
    "        z_tot = np.concatenate((z_tot,data['z']))\n",
    "        \n",
    "        B_tot = np.concatenate((B_tot,data['B']))\n",
    "        V_tot = np.concatenate((V_tot,data['V']))\n",
    "        J_tot = np.concatenate((J_tot,data['J']))\n",
    "        H_tot = np.concatenate((H_tot,data['H']))\n",
    "        K_tot = np.concatenate((K_tot,data['K']))\n",
    "        NUV_tot = np.concatenate((NUV_tot,data['NUV']))\n",
    "        FUV_tot = np.concatenate((FUV_tot,data['FUV']))\n",
    "\n",
    "        mass_tot = np.concatenate((mass_tot,data['stellarmass']))\n",
    "        type_tot = np.concatenate((type_tot,data['type']))\n",
    "\n",
    "        #if i_vol ==N_sub_volumes-1:\n",
    "        #    print(len(u_tot))\n",
    "        print(len(u_tot))\n",
    "        \n",
    "        \n",
    "    return u_tot,g_tot,r_tot,i_tot,z_tot,B_tot,V_tot,J_tot,H_tot,K_tot,NUV_tot,FUV_tot,mass_tot, type_tot"
   ]
  },
  {
   "cell_type": "code",
   "execution_count": 12,
   "metadata": {},
   "outputs": [
    {
     "name": "stdout",
     "output_type": "stream",
     "text": [
      "436389\n",
      "882794\n",
      "1320731\n",
      "1763215\n",
      "2213972\n",
      "2645694\n",
      "3095974\n",
      "3539296\n",
      "3976067\n",
      "4410287\n",
      "4857668\n",
      "5293451\n",
      "5744769\n",
      "6200678\n",
      "6643465\n",
      "7074851\n",
      "7512398\n",
      "7965189\n",
      "8420468\n",
      "8866693\n",
      "9304428\n",
      "9748871\n",
      "10183723\n",
      "10624142\n",
      "11076359\n",
      "11506781\n",
      "11952022\n",
      "12401309\n",
      "12857478\n",
      "13312337\n",
      "13747361\n",
      "14191160\n",
      "14637035\n",
      "15085100\n",
      "15518895\n",
      "15961800\n",
      "16412419\n",
      "16868582\n",
      "17308816\n",
      "17757436\n",
      "18197681\n",
      "18642335\n",
      "19088687\n",
      "19525454\n",
      "19981502\n",
      "20428568\n",
      "20878066\n",
      "21330674\n",
      "21775865\n",
      "22216344\n",
      "22651329\n",
      "23104743\n",
      "23546615\n",
      "23988953\n",
      "24429321\n",
      "24892341\n",
      "25335142\n",
      "25792497\n",
      "26234639\n",
      "26673623\n",
      "27115473\n",
      "27560594\n",
      "27994546\n",
      "28443462\n"
     ]
    }
   ],
   "source": [
    "u37_feed,\\\n",
    "g37_feed,\\\n",
    "r37_feed,\\\n",
    "i37_feed,\\\n",
    "z37_feed,\\\n",
    "B37_feed,\\\n",
    "V37_feed,\\\n",
    "J37_feed,\\\n",
    "H37_feed,\\\n",
    "K37_feed,\\\n",
    "NUV37_feed,\\\n",
    "FUV37_feed,\\\n",
    "mass37_feed,\\\n",
    "type37_feed    = Add_subvolumes(snap=42,feedback=True,extinction=False,N_sub_volumes=64)\n"
   ]
  },
  {
   "cell_type": "code",
   "execution_count": 13,
   "metadata": {},
   "outputs": [
    {
     "data": {
      "image/png": "[encoded data removed]",
      "text/plain": [
       "<Figure size 432x288 with 1 Axes>"
      ]
     },
     "metadata": {},
     "output_type": "display_data"
    }
   ],
   "source": [
    "plt.plot(V37_feed,u37_feed-V37_feed,\",\")\n",
    "plt.show()"
   ]
  },
  {
   "cell_type": "markdown",
   "metadata": {},
   "source": [
    "# COSMOLOGY"
   ]
  },
  {
   "cell_type": "code",
   "execution_count": 14,
   "metadata": {},
   "outputs": [],
   "source": [
    "def integ_trap(func,z1,z2,N=1000):\n",
    "    z = np.logspace(np.log10(z1),np.log10(z2),N)\n",
    "    y = func(z)\n",
    "\n",
    "    A = 0\n",
    "    for i in range(len(z)-1):\n",
    "        A += np.abs((z[i+1]-z[i]))*(y[i]+y[i+1])/2\n",
    "    return A\n",
    "\n",
    "def E(z,Om_rad=8.4*10**(-5),Om_lambda=0.7,Om_mat=0.3):\n",
    "    return np.sqrt(Om_rad*(1+z)**4 + Om_mat*(1+z)**3 + Om_lambda)\n",
    "\n",
    "def over_E(z):\n",
    "    return E(z)**(-1)\n",
    "\n",
    "def comoving_distance(z):\n",
    "    zero = 10**(-20)\n",
    "    c = 3e5 #km/s\n",
    "    H0=100. #km/s/Mpc\n",
    "    return (c*H0**(-1)*integ_trap(over_E,zero,z,10**(3))) #Mpc h^-1\n",
    "\n",
    "vec_r = np.vectorize(comoving_distance)\n",
    "\n",
    "def Luminosity_distance(z):\n",
    "    '''Returns the Luminosity distance in units of Mpc h^-1'''\n",
    "    return comoving_distance(z)*(1.+z)\n",
    "\n",
    "def ABSOLUTE_MAGNITUDE_minus5logh(m,z,K_correction=False,ratio_L=1.):\n",
    "    if K_correction:\n",
    "        return m -25. -5.*np.log10(Luminosity_distance(z)) -2.5*np.log10(ratio_L*(1.+z))\n",
    "    else:\n",
    "        return m -25. -5.*np.log10(Luminosity_distance(z))\n",
    "\n",
    "vec_ABSOLUTE_MAGNITUDE_minus5logh = np.vectorize(ABSOLUTE_MAGNITUDE_minus5logh)"
   ]
  },
  {
   "cell_type": "code",
   "execution_count": 15,
   "metadata": {},
   "outputs": [
    {
     "data": {
      "text/plain": [
       "-20.075056635541458"
      ]
     },
     "execution_count": 15,
     "metadata": {},
     "output_type": "execute_result"
    }
   ],
   "source": [
    "ABSOLUTE_MAGNITUDE_minus5logh(22.5,z=0.755036)"
   ]
  },
  {
   "cell_type": "code",
   "execution_count": 16,
   "metadata": {},
   "outputs": [
    {
     "data": {
      "text/plain": [
       "875399"
      ]
     },
     "execution_count": 16,
     "metadata": {},
     "output_type": "execute_result"
    }
   ],
   "source": [
    "sel_i_22_5 = np.where(i37_feed<=ABSOLUTE_MAGNITUDE_minus5logh(22.5,z=0.755036))\n",
    "len(sel_i_22_5[0])"
   ]
  },
  {
   "cell_type": "code",
   "execution_count": 17,
   "metadata": {},
   "outputs": [
    {
     "data": {
      "image/png": "[encoded data removed]",
      "text/plain": [
       "<Figure size 432x288 with 1 Axes>"
      ]
     },
     "metadata": {},
     "output_type": "display_data"
    }
   ],
   "source": [
    "plt.plot(V37_feed[sel_i_22_5],u37_feed[sel_i_22_5]-V37_feed[sel_i_22_5],\",\")\n",
    "plt.show()"
   ]
  },
  {
   "cell_type": "code",
   "execution_count": 18,
   "metadata": {},
   "outputs": [
    {
     "data": {
      "image/png": "[encoded data removed]",
      "text/plain": [
       "<Figure size 432x288 with 1 Axes>"
      ]
     },
     "metadata": {},
     "output_type": "display_data"
    }
   ],
   "source": [
    "plt.hist(V37_feed[sel_i_22_5],bins=30)\n",
    "plt.hist(V37_feed[sel_i_22_5]+5*np.log10(0.7),bins=30)\n",
    "plt.show()"
   ]
  },
  {
   "cell_type": "code",
   "execution_count": 19,
   "metadata": {},
   "outputs": [],
   "source": [
    "df_225 = pd.DataFrame(data={'u':u37_feed[sel_i_22_5], \n",
    "                        'g':g37_feed[sel_i_22_5],\n",
    "                        'r':r37_feed[sel_i_22_5], \n",
    "                        'i':i37_feed[sel_i_22_5], \n",
    "                        'z':z37_feed[sel_i_22_5], \n",
    "                        'B':B37_feed[sel_i_22_5], \n",
    "                        'V':V37_feed[sel_i_22_5], \n",
    "                        'J':J37_feed[sel_i_22_5],\n",
    "                        'H':H37_feed[sel_i_22_5],\n",
    "                        'K':K37_feed[sel_i_22_5],\n",
    "                        'NUV':NUV37_feed[sel_i_22_5],\n",
    "                        'FUV':FUV37_feed[sel_i_22_5],\n",
    "                        'stellarmass':mass37_feed[sel_i_22_5], \n",
    "                        'type':type37_feed[sel_i_22_5] })"
   ]
  },
  {
   "cell_type": "code",
   "execution_count": 20,
   "metadata": {},
   "outputs": [],
   "source": [
    "df_225.to_csv('/data/dega2/dc-manz2/Galform_Out/GOSIA/snap_42_i225_feed_no_ext.txt' ,index=None,sep=' ')"
   ]
  },
  {
   "cell_type": "code",
   "execution_count": 21,
   "metadata": {},
   "outputs": [
    {
     "data": {
      "image/png": "[encoded data removed]",
      "text/plain": [
       "<Figure size 720x576 with 1 Axes>"
      ]
     },
     "metadata": {},
     "output_type": "display_data"
    }
   ],
   "source": [
    "plt.figure(figsize=(10,8))\n",
    "plt.hist(u37_feed[sel_i_22_5]+5*np.log10(0.7),bins=30,histtype='step',lw=3,label='u')\n",
    "plt.hist(g37_feed[sel_i_22_5]+5*np.log10(0.7),bins=30,histtype='step',lw=3,label='g')\n",
    "plt.hist(r37_feed[sel_i_22_5]+5*np.log10(0.7),bins=30,histtype='step',lw=3,label='r')\n",
    "plt.hist(i37_feed[sel_i_22_5]+5*np.log10(0.7),bins=30,histtype='step',lw=3,label='i')\n",
    "plt.hist(g37_feed[sel_i_22_5]+5*np.log10(0.7),bins=30,histtype='step',lw=3,label='z')\n",
    "plt.hist(B37_feed[sel_i_22_5]+5*np.log10(0.7),bins=30,histtype='step',lw=3,label='B')\n",
    "plt.hist(V37_feed[sel_i_22_5]+5*np.log10(0.7),bins=30,histtype='step',lw=3,label='V')\n",
    "plt.hist(J37_feed[sel_i_22_5]+5*np.log10(0.7),bins=30,histtype='step',lw=3,label='J')\n",
    "plt.hist(H37_feed[sel_i_22_5]+5*np.log10(0.7),bins=30,histtype='step',lw=3,label='H')\n",
    "plt.hist(K37_feed[sel_i_22_5]+5*np.log10(0.7),bins=30,histtype='step',lw=3,label='K')\n",
    "plt.hist(NUV37_feed[sel_i_22_5]+5*np.log10(0.7),bins=30,histtype='step',lw=3,label='NUV')\n",
    "plt.hist(FUV37_feed[sel_i_22_5]+5*np.log10(0.7),bins=30,histtype='step',lw=3,label='FUV')\n",
    "plt.legend(fontsize='xx-small')\n",
    "plt.xlabel(r'mag $+ 5 \\, \\log_{10}(h = 0.7)$')\n",
    "plt.ylabel('counts')\n",
    "plt.title(r'snapshot 37 ($z=1.1734$)')\n",
    "plt.savefig('./plots/gosia_magnitudes_snap37_feed.png')\n",
    "plt.show()"
   ]
  },
  {
   "cell_type": "code",
   "execution_count": 22,
   "metadata": {},
   "outputs": [
    {
     "data": {
      "text/plain": [
       "(-30.0, 0.0)"
      ]
     },
     "execution_count": 22,
     "metadata": {},
     "output_type": "execute_result"
    },
    {
     "data": {
      "image/png": "[encoded data removed]",
      "text/plain": [
       "<Figure size 432x288 with 1 Axes>"
      ]
     },
     "metadata": {},
     "output_type": "display_data"
    }
   ],
   "source": [
    "plt.hist(V37_feed[sel_i_22_5]+5*np.log10(0.7),bins=400,histtype='step',lw=3,label='V')\n",
    "plt.xlim(-30.,0.)"
   ]
  },
  {
   "cell_type": "code",
   "execution_count": null,
   "metadata": {},
   "outputs": [],
   "source": []
  }
 ],
 "metadata": {
  "kernelspec": {
   "display_name": "Python 3",
   "language": "python",
   "name": "python3"
  },
  "language_info": {
   "codemirror_mode": {
    "name": "ipython",
    "version": 3
   },
   "file_extension": ".py",
   "mimetype": "text/x-python",
   "name": "python",
   "nbconvert_exporter": "python",
   "pygments_lexer": "ipython3",
   "version": "3.6.5"
  }
 },
 "nbformat": 4,
 "nbformat_minor": 2
}
