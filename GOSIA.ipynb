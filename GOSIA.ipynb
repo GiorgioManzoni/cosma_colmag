{
 "cells": [
  {
   "cell_type": "code",
   "execution_count": 1,
   "metadata": {},
   "outputs": [],
   "source": [
    "# Import the class to read the file galaxies.hdf5\n",
    "from GalformRun_basic import * \n",
    "import pandas as pd\n",
    "\n",
    "%matplotlib inline\n",
    "import matplotlib \n",
    "matplotlib.rc('xtick', labelsize=10) \n",
    "matplotlib.rc('ytick', labelsize=10)\n",
    "matplotlib.rcParams.update({'font.size': 20})"
   ]
  },
  {
   "cell_type": "code",
   "execution_count": 7,
   "metadata": {},
   "outputs": [],
   "source": [
    "def Create_data(volume=0,\n",
    "                snap=37,\n",
    "                zsnap=1.1734,\n",
    "                feedback=True,\n",
    "                input_folder='/data/dega2/dc-manz2/Galform_Out/v2.7.0/stable/MillGas/',\n",
    "                output_folder='/data/dega2/dc-manz2/Galform_Out/GOSIA/'):\n",
    "    \n",
    "    '''Function to read the output of Galform and write it in the output folder as specified'''\n",
    "    #create right path\n",
    "    if feedback: \n",
    "        fb = 'gp14'\n",
    "        fb_save = 'feedback'\n",
    "    else: \n",
    "        fb = 'gp14.nofeedback'\n",
    "        fb_save= 'nofeedback'\n",
    "        \n",
    "    path = input_folder+fb+'/iz'+str(snap)+'/ivol'+str(volume)+'/'\n",
    "    #path= '../data/uvi'+str(snap)+'_'+fb+'_vol'+str(volume)+'.txt'\n",
    "    print(\"READ : \", path)\n",
    "    #read data from galaxies.hdf5 using the class GalformRun\n",
    "    G = GalformRun(path)\n",
    "    u = np.array(G.get(\"mag_SDSS-u_r_tot_ext\",zsnap,filename='tosedfit.hdf5'))\n",
    "    g = np.array(G.get(\"mag_SDSS-g_r_tot_ext\",zsnap,filename='tosedfit.hdf5'))    \n",
    "    r = np.array(G.get(\"mag_SDSS-r_r_tot_ext\",zsnap,filename='tosedfit.hdf5'))\n",
    "    i = np.array(G.get(\"mag_SDSS-i_o_tot_ext\",zsnap,filename='tosedfit.hdf5'))\n",
    "    z = np.array(G.get(\"mag_SDSS-z_r_tot_ext\",zsnap,filename='tosedfit.hdf5'))\n",
    "\n",
    "    B = np.array(G.get(\"mag_B_r_tot_ext\",zsnap,filename='tosedfit.hdf5'))\n",
    "    V = np.array(G.get(\"mag_V_r_tot_ext\",zsnap,filename='tosedfit.hdf5'))\n",
    "    J = np.array(G.get(\"mag_UKIRT-J_r_tot_ext\",zsnap,filename='tosedfit.hdf5'))\n",
    "    H = np.array(G.get(\"mag_UKIRT-H_r_tot_ext\",zsnap,filename='tosedfit.hdf5'))\n",
    "    K = np.array(G.get(\"mag_UKIRT-K_r_tot_ext\",zsnap,filename='tosedfit.hdf5'))\n",
    "    \n",
    "    NUV = np.array(G.get(\"mag_GALEX-NUV_r_tot_ext\",zsnap,filename='tosedfit.hdf5'))\n",
    "    FUV = np.array(G.get(\"mag_GALEX-FUV_r_tot_ext\",zsnap,filename='tosedfit.hdf5'))\n",
    "\n",
    "    \n",
    "    mass = np.array(G.get(\"mstars_tot\",zsnap,filename='tosedfit.hdf5'))\n",
    "    tp = np.array(G.get(\"type\",zsnap,filename='tosedfit.hdf5'))\n",
    "\n",
    "    #crete pandas dataframe with data\n",
    "    df = pd.DataFrame(data={'u':u , 'g':g ,'r':r , 'i':i, 'z':z , 'B':B, 'V':V, 'J':J,'H':H,'K':K,'NUV':NUV,'FUV':FUV,'stellarmass':mass, 'type':tp})\n",
    "    #save dataframe in a txt file\n",
    "    output_name= output_folder+'giorgio_galform_'+str(snap)+'_'+fb_save+'_vol'+str(volume)+'.txt' \n",
    "    df.to_csv(output_name ,index=None,sep=' ')\n",
    "    print(\"WRITE: \", output_name)\n",
    "    return u,g,r,i,z,B,V,J,H,K,NUV,FUV,mass,tp"
   ]
  },
  {
   "cell_type": "code",
   "execution_count": 8,
   "metadata": {},
   "outputs": [
    {
     "name": "stdout",
     "output_type": "stream",
     "text": [
      "READ :  /data/dega2/dc-manz2/Galform_Out/v2.7.0/stable/MillGas/gp14/iz37/ivol0/\n",
      "WRITE:  /data/dega2/dc-manz2/Galform_Out/GOSIA/giorgio_galform_37_feedback_vol0.txt\n"
     ]
    }
   ],
   "source": [
    "u,g,r,i,z,B,V,J,H,K,NUV,FUV,mass,tp = Create_data(volume=0,snap=37,zsnap=1.1734,feedback=True,output_folder='/data/dega2/dc-manz2/Galform_Out/GOSIA/')"
   ]
  },
  {
   "cell_type": "code",
   "execution_count": 27,
   "metadata": {},
   "outputs": [
    {
     "data": {
      "text/plain": [
       "(array([9.7000e+01, 9.6300e+02, 3.6920e+03, 5.8810e+03, 3.7480e+03,\n",
       "        3.5440e+03, 7.3740e+03, 9.2220e+03, 1.3789e+04, 2.1524e+04,\n",
       "        2.9703e+04, 3.7091e+04, 4.0521e+04, 4.1237e+04, 3.8719e+04,\n",
       "        3.3706e+04, 2.7978e+04, 2.2277e+04, 1.6273e+04, 1.2643e+04,\n",
       "        1.0189e+04, 8.4920e+03, 6.8920e+03, 4.8960e+03, 3.5870e+03,\n",
       "        3.0200e+03, 2.6860e+03, 1.7130e+03, 2.4200e+02, 1.5000e+01]),\n",
       " array([ 4.64305925,  4.86629256,  5.08952586,  5.31275916,  5.53599246,\n",
       "         5.75922577,  5.98245907,  6.20569237,  6.42892567,  6.65215898,\n",
       "         6.87539228,  7.09862558,  7.32185888,  7.54509219,  7.76832549,\n",
       "         7.99155879,  8.21479209,  8.4380254 ,  8.6612587 ,  8.884492  ,\n",
       "         9.1077253 ,  9.3309586 ,  9.55419191,  9.77742521, 10.00065851,\n",
       "        10.22389181, 10.44712512, 10.67035842, 10.89359172, 11.11682502,\n",
       "        11.34005833]),\n",
       " <a list of 30 Patch objects>)"
      ]
     },
     "execution_count": 27,
     "metadata": {},
     "output_type": "execute_result"
    },
    {
     "data": {
      "image/png": "[encoded data removed]",
      "text/plain": [
       "<Figure size 432x288 with 1 Axes>"
      ]
     },
     "metadata": {},
     "output_type": "display_data"
    }
   ],
   "source": [
    "plt.hist(np.log10(mass),bins=30)"
   ]
  },
  {
   "cell_type": "markdown",
   "metadata": {},
   "source": [
    "# Create data"
   ]
  },
  {
   "cell_type": "code",
   "execution_count": 9,
   "metadata": {},
   "outputs": [
    {
     "name": "stdout",
     "output_type": "stream",
     "text": [
      "READ :  /data/dega2/dc-manz2/Galform_Out/v2.7.0/stable/MillGas/gp14/iz37/ivol0/\n",
      "WRITE:  /data/dega2/dc-manz2/Galform_Out/GOSIA/giorgio_galform_37_feedback_vol0.txt\n",
      "READ :  /data/dega2/dc-manz2/Galform_Out/v2.7.0/stable/MillGas/gp14/iz37/ivol1/\n",
      "WRITE:  /data/dega2/dc-manz2/Galform_Out/GOSIA/giorgio_galform_37_feedback_vol1.txt\n",
      "READ :  /data/dega2/dc-manz2/Galform_Out/v2.7.0/stable/MillGas/gp14/iz37/ivol2/\n",
      "WRITE:  /data/dega2/dc-manz2/Galform_Out/GOSIA/giorgio_galform_37_feedback_vol2.txt\n",
      "READ :  /data/dega2/dc-manz2/Galform_Out/v2.7.0/stable/MillGas/gp14/iz37/ivol3/\n",
      "WRITE:  /data/dega2/dc-manz2/Galform_Out/GOSIA/giorgio_galform_37_feedback_vol3.txt\n",
      "READ :  /data/dega2/dc-manz2/Galform_Out/v2.7.0/stable/MillGas/gp14/iz37/ivol4/\n",
      "WRITE:  /data/dega2/dc-manz2/Galform_Out/GOSIA/giorgio_galform_37_feedback_vol4.txt\n",
      "READ :  /data/dega2/dc-manz2/Galform_Out/v2.7.0/stable/MillGas/gp14/iz37/ivol5/\n",
      "WRITE:  /data/dega2/dc-manz2/Galform_Out/GOSIA/giorgio_galform_37_feedback_vol5.txt\n",
      "READ :  /data/dega2/dc-manz2/Galform_Out/v2.7.0/stable/MillGas/gp14/iz37/ivol6/\n",
      "WRITE:  /data/dega2/dc-manz2/Galform_Out/GOSIA/giorgio_galform_37_feedback_vol6.txt\n",
      "READ :  /data/dega2/dc-manz2/Galform_Out/v2.7.0/stable/MillGas/gp14/iz37/ivol7/\n",
      "WRITE:  /data/dega2/dc-manz2/Galform_Out/GOSIA/giorgio_galform_37_feedback_vol7.txt\n",
      "READ :  /data/dega2/dc-manz2/Galform_Out/v2.7.0/stable/MillGas/gp14/iz37/ivol8/\n",
      "WRITE:  /data/dega2/dc-manz2/Galform_Out/GOSIA/giorgio_galform_37_feedback_vol8.txt\n",
      "READ :  /data/dega2/dc-manz2/Galform_Out/v2.7.0/stable/MillGas/gp14/iz37/ivol9/\n",
      "WRITE:  /data/dega2/dc-manz2/Galform_Out/GOSIA/giorgio_galform_37_feedback_vol9.txt\n",
      "READ :  /data/dega2/dc-manz2/Galform_Out/v2.7.0/stable/MillGas/gp14/iz37/ivol10/\n",
      "WRITE:  /data/dega2/dc-manz2/Galform_Out/GOSIA/giorgio_galform_37_feedback_vol10.txt\n",
      "READ :  /data/dega2/dc-manz2/Galform_Out/v2.7.0/stable/MillGas/gp14/iz37/ivol11/\n",
      "WRITE:  /data/dega2/dc-manz2/Galform_Out/GOSIA/giorgio_galform_37_feedback_vol11.txt\n",
      "READ :  /data/dega2/dc-manz2/Galform_Out/v2.7.0/stable/MillGas/gp14/iz37/ivol12/\n",
      "WRITE:  /data/dega2/dc-manz2/Galform_Out/GOSIA/giorgio_galform_37_feedback_vol12.txt\n",
      "READ :  /data/dega2/dc-manz2/Galform_Out/v2.7.0/stable/MillGas/gp14/iz37/ivol13/\n",
      "WRITE:  /data/dega2/dc-manz2/Galform_Out/GOSIA/giorgio_galform_37_feedback_vol13.txt\n",
      "READ :  /data/dega2/dc-manz2/Galform_Out/v2.7.0/stable/MillGas/gp14/iz37/ivol14/\n",
      "WRITE:  /data/dega2/dc-manz2/Galform_Out/GOSIA/giorgio_galform_37_feedback_vol14.txt\n",
      "READ :  /data/dega2/dc-manz2/Galform_Out/v2.7.0/stable/MillGas/gp14/iz37/ivol15/\n",
      "WRITE:  /data/dega2/dc-manz2/Galform_Out/GOSIA/giorgio_galform_37_feedback_vol15.txt\n",
      "READ :  /data/dega2/dc-manz2/Galform_Out/v2.7.0/stable/MillGas/gp14/iz37/ivol16/\n",
      "WRITE:  /data/dega2/dc-manz2/Galform_Out/GOSIA/giorgio_galform_37_feedback_vol16.txt\n",
      "READ :  /data/dega2/dc-manz2/Galform_Out/v2.7.0/stable/MillGas/gp14/iz37/ivol17/\n",
      "WRITE:  /data/dega2/dc-manz2/Galform_Out/GOSIA/giorgio_galform_37_feedback_vol17.txt\n",
      "READ :  /data/dega2/dc-manz2/Galform_Out/v2.7.0/stable/MillGas/gp14/iz37/ivol18/\n",
      "WRITE:  /data/dega2/dc-manz2/Galform_Out/GOSIA/giorgio_galform_37_feedback_vol18.txt\n",
      "READ :  /data/dega2/dc-manz2/Galform_Out/v2.7.0/stable/MillGas/gp14/iz37/ivol19/\n",
      "WRITE:  /data/dega2/dc-manz2/Galform_Out/GOSIA/giorgio_galform_37_feedback_vol19.txt\n",
      "READ :  /data/dega2/dc-manz2/Galform_Out/v2.7.0/stable/MillGas/gp14/iz37/ivol20/\n",
      "WRITE:  /data/dega2/dc-manz2/Galform_Out/GOSIA/giorgio_galform_37_feedback_vol20.txt\n",
      "READ :  /data/dega2/dc-manz2/Galform_Out/v2.7.0/stable/MillGas/gp14/iz37/ivol21/\n",
      "WRITE:  /data/dega2/dc-manz2/Galform_Out/GOSIA/giorgio_galform_37_feedback_vol21.txt\n",
      "READ :  /data/dega2/dc-manz2/Galform_Out/v2.7.0/stable/MillGas/gp14/iz37/ivol22/\n",
      "WRITE:  /data/dega2/dc-manz2/Galform_Out/GOSIA/giorgio_galform_37_feedback_vol22.txt\n",
      "READ :  /data/dega2/dc-manz2/Galform_Out/v2.7.0/stable/MillGas/gp14/iz37/ivol23/\n",
      "WRITE:  /data/dega2/dc-manz2/Galform_Out/GOSIA/giorgio_galform_37_feedback_vol23.txt\n",
      "READ :  /data/dega2/dc-manz2/Galform_Out/v2.7.0/stable/MillGas/gp14/iz37/ivol24/\n",
      "WRITE:  /data/dega2/dc-manz2/Galform_Out/GOSIA/giorgio_galform_37_feedback_vol24.txt\n",
      "READ :  /data/dega2/dc-manz2/Galform_Out/v2.7.0/stable/MillGas/gp14/iz37/ivol25/\n",
      "WRITE:  /data/dega2/dc-manz2/Galform_Out/GOSIA/giorgio_galform_37_feedback_vol25.txt\n",
      "READ :  /data/dega2/dc-manz2/Galform_Out/v2.7.0/stable/MillGas/gp14/iz37/ivol26/\n",
      "WRITE:  /data/dega2/dc-manz2/Galform_Out/GOSIA/giorgio_galform_37_feedback_vol26.txt\n",
      "READ :  /data/dega2/dc-manz2/Galform_Out/v2.7.0/stable/MillGas/gp14/iz37/ivol27/\n",
      "WRITE:  /data/dega2/dc-manz2/Galform_Out/GOSIA/giorgio_galform_37_feedback_vol27.txt\n",
      "READ :  /data/dega2/dc-manz2/Galform_Out/v2.7.0/stable/MillGas/gp14/iz37/ivol28/\n",
      "WRITE:  /data/dega2/dc-manz2/Galform_Out/GOSIA/giorgio_galform_37_feedback_vol28.txt\n",
      "READ :  /data/dega2/dc-manz2/Galform_Out/v2.7.0/stable/MillGas/gp14/iz37/ivol29/\n",
      "WRITE:  /data/dega2/dc-manz2/Galform_Out/GOSIA/giorgio_galform_37_feedback_vol29.txt\n",
      "READ :  /data/dega2/dc-manz2/Galform_Out/v2.7.0/stable/MillGas/gp14/iz37/ivol30/\n",
      "WRITE:  /data/dega2/dc-manz2/Galform_Out/GOSIA/giorgio_galform_37_feedback_vol30.txt\n",
      "READ :  /data/dega2/dc-manz2/Galform_Out/v2.7.0/stable/MillGas/gp14/iz37/ivol31/\n",
      "WRITE:  /data/dega2/dc-manz2/Galform_Out/GOSIA/giorgio_galform_37_feedback_vol31.txt\n",
      "READ :  /data/dega2/dc-manz2/Galform_Out/v2.7.0/stable/MillGas/gp14/iz37/ivol32/\n",
      "WRITE:  /data/dega2/dc-manz2/Galform_Out/GOSIA/giorgio_galform_37_feedback_vol32.txt\n",
      "READ :  /data/dega2/dc-manz2/Galform_Out/v2.7.0/stable/MillGas/gp14/iz37/ivol33/\n",
      "WRITE:  /data/dega2/dc-manz2/Galform_Out/GOSIA/giorgio_galform_37_feedback_vol33.txt\n",
      "READ :  /data/dega2/dc-manz2/Galform_Out/v2.7.0/stable/MillGas/gp14/iz37/ivol34/\n",
      "WRITE:  /data/dega2/dc-manz2/Galform_Out/GOSIA/giorgio_galform_37_feedback_vol34.txt\n",
      "READ :  /data/dega2/dc-manz2/Galform_Out/v2.7.0/stable/MillGas/gp14/iz37/ivol35/\n",
      "WRITE:  /data/dega2/dc-manz2/Galform_Out/GOSIA/giorgio_galform_37_feedback_vol35.txt\n",
      "READ :  /data/dega2/dc-manz2/Galform_Out/v2.7.0/stable/MillGas/gp14/iz37/ivol36/\n",
      "WRITE:  /data/dega2/dc-manz2/Galform_Out/GOSIA/giorgio_galform_37_feedback_vol36.txt\n",
      "READ :  /data/dega2/dc-manz2/Galform_Out/v2.7.0/stable/MillGas/gp14/iz37/ivol37/\n",
      "WRITE:  /data/dega2/dc-manz2/Galform_Out/GOSIA/giorgio_galform_37_feedback_vol37.txt\n",
      "READ :  /data/dega2/dc-manz2/Galform_Out/v2.7.0/stable/MillGas/gp14/iz37/ivol38/\n",
      "WRITE:  /data/dega2/dc-manz2/Galform_Out/GOSIA/giorgio_galform_37_feedback_vol38.txt\n",
      "READ :  /data/dega2/dc-manz2/Galform_Out/v2.7.0/stable/MillGas/gp14/iz37/ivol39/\n",
      "WRITE:  /data/dega2/dc-manz2/Galform_Out/GOSIA/giorgio_galform_37_feedback_vol39.txt\n",
      "READ :  /data/dega2/dc-manz2/Galform_Out/v2.7.0/stable/MillGas/gp14/iz37/ivol40/\n",
      "WRITE:  /data/dega2/dc-manz2/Galform_Out/GOSIA/giorgio_galform_37_feedback_vol40.txt\n",
      "READ :  /data/dega2/dc-manz2/Galform_Out/v2.7.0/stable/MillGas/gp14/iz37/ivol41/\n",
      "WRITE:  /data/dega2/dc-manz2/Galform_Out/GOSIA/giorgio_galform_37_feedback_vol41.txt\n",
      "READ :  /data/dega2/dc-manz2/Galform_Out/v2.7.0/stable/MillGas/gp14/iz37/ivol42/\n",
      "WRITE:  /data/dega2/dc-manz2/Galform_Out/GOSIA/giorgio_galform_37_feedback_vol42.txt\n",
      "READ :  /data/dega2/dc-manz2/Galform_Out/v2.7.0/stable/MillGas/gp14/iz37/ivol43/\n",
      "WRITE:  /data/dega2/dc-manz2/Galform_Out/GOSIA/giorgio_galform_37_feedback_vol43.txt\n",
      "READ :  /data/dega2/dc-manz2/Galform_Out/v2.7.0/stable/MillGas/gp14/iz37/ivol44/\n",
      "WRITE:  /data/dega2/dc-manz2/Galform_Out/GOSIA/giorgio_galform_37_feedback_vol44.txt\n",
      "READ :  /data/dega2/dc-manz2/Galform_Out/v2.7.0/stable/MillGas/gp14/iz37/ivol45/\n",
      "WRITE:  /data/dega2/dc-manz2/Galform_Out/GOSIA/giorgio_galform_37_feedback_vol45.txt\n",
      "READ :  /data/dega2/dc-manz2/Galform_Out/v2.7.0/stable/MillGas/gp14/iz37/ivol46/\n",
      "WRITE:  /data/dega2/dc-manz2/Galform_Out/GOSIA/giorgio_galform_37_feedback_vol46.txt\n",
      "READ :  /data/dega2/dc-manz2/Galform_Out/v2.7.0/stable/MillGas/gp14/iz37/ivol47/\n",
      "WRITE:  /data/dega2/dc-manz2/Galform_Out/GOSIA/giorgio_galform_37_feedback_vol47.txt\n",
      "READ :  /data/dega2/dc-manz2/Galform_Out/v2.7.0/stable/MillGas/gp14/iz37/ivol48/\n",
      "WRITE:  /data/dega2/dc-manz2/Galform_Out/GOSIA/giorgio_galform_37_feedback_vol48.txt\n",
      "READ :  /data/dega2/dc-manz2/Galform_Out/v2.7.0/stable/MillGas/gp14/iz37/ivol49/\n"
     ]
    },
    {
     "name": "stdout",
     "output_type": "stream",
     "text": [
      "WRITE:  /data/dega2/dc-manz2/Galform_Out/GOSIA/giorgio_galform_37_feedback_vol49.txt\n",
      "READ :  /data/dega2/dc-manz2/Galform_Out/v2.7.0/stable/MillGas/gp14/iz37/ivol50/\n",
      "WRITE:  /data/dega2/dc-manz2/Galform_Out/GOSIA/giorgio_galform_37_feedback_vol50.txt\n",
      "READ :  /data/dega2/dc-manz2/Galform_Out/v2.7.0/stable/MillGas/gp14/iz37/ivol51/\n",
      "WRITE:  /data/dega2/dc-manz2/Galform_Out/GOSIA/giorgio_galform_37_feedback_vol51.txt\n",
      "READ :  /data/dega2/dc-manz2/Galform_Out/v2.7.0/stable/MillGas/gp14/iz37/ivol52/\n",
      "WRITE:  /data/dega2/dc-manz2/Galform_Out/GOSIA/giorgio_galform_37_feedback_vol52.txt\n",
      "READ :  /data/dega2/dc-manz2/Galform_Out/v2.7.0/stable/MillGas/gp14/iz37/ivol53/\n",
      "WRITE:  /data/dega2/dc-manz2/Galform_Out/GOSIA/giorgio_galform_37_feedback_vol53.txt\n",
      "READ :  /data/dega2/dc-manz2/Galform_Out/v2.7.0/stable/MillGas/gp14/iz37/ivol54/\n",
      "WRITE:  /data/dega2/dc-manz2/Galform_Out/GOSIA/giorgio_galform_37_feedback_vol54.txt\n",
      "READ :  /data/dega2/dc-manz2/Galform_Out/v2.7.0/stable/MillGas/gp14/iz37/ivol55/\n",
      "WRITE:  /data/dega2/dc-manz2/Galform_Out/GOSIA/giorgio_galform_37_feedback_vol55.txt\n",
      "READ :  /data/dega2/dc-manz2/Galform_Out/v2.7.0/stable/MillGas/gp14/iz37/ivol56/\n",
      "WRITE:  /data/dega2/dc-manz2/Galform_Out/GOSIA/giorgio_galform_37_feedback_vol56.txt\n",
      "READ :  /data/dega2/dc-manz2/Galform_Out/v2.7.0/stable/MillGas/gp14/iz37/ivol57/\n",
      "WRITE:  /data/dega2/dc-manz2/Galform_Out/GOSIA/giorgio_galform_37_feedback_vol57.txt\n",
      "READ :  /data/dega2/dc-manz2/Galform_Out/v2.7.0/stable/MillGas/gp14/iz37/ivol58/\n",
      "WRITE:  /data/dega2/dc-manz2/Galform_Out/GOSIA/giorgio_galform_37_feedback_vol58.txt\n",
      "READ :  /data/dega2/dc-manz2/Galform_Out/v2.7.0/stable/MillGas/gp14/iz37/ivol59/\n",
      "WRITE:  /data/dega2/dc-manz2/Galform_Out/GOSIA/giorgio_galform_37_feedback_vol59.txt\n",
      "READ :  /data/dega2/dc-manz2/Galform_Out/v2.7.0/stable/MillGas/gp14/iz37/ivol60/\n",
      "WRITE:  /data/dega2/dc-manz2/Galform_Out/GOSIA/giorgio_galform_37_feedback_vol60.txt\n",
      "READ :  /data/dega2/dc-manz2/Galform_Out/v2.7.0/stable/MillGas/gp14/iz37/ivol61/\n",
      "WRITE:  /data/dega2/dc-manz2/Galform_Out/GOSIA/giorgio_galform_37_feedback_vol61.txt\n",
      "READ :  /data/dega2/dc-manz2/Galform_Out/v2.7.0/stable/MillGas/gp14/iz37/ivol62/\n",
      "WRITE:  /data/dega2/dc-manz2/Galform_Out/GOSIA/giorgio_galform_37_feedback_vol62.txt\n",
      "READ :  /data/dega2/dc-manz2/Galform_Out/v2.7.0/stable/MillGas/gp14/iz37/ivol63/\n",
      "WRITE:  /data/dega2/dc-manz2/Galform_Out/GOSIA/giorgio_galform_37_feedback_vol63.txt\n"
     ]
    }
   ],
   "source": [
    "for v in range(0,64):\n",
    "    Create_data(volume=v,snap=37,zsnap=1.1734,feedback=True,output_folder='/data/dega2/dc-manz2/Galform_Out/GOSIA/')"
   ]
  },
  {
   "cell_type": "code",
   "execution_count": null,
   "metadata": {},
   "outputs": [],
   "source": []
  },
  {
   "cell_type": "markdown",
   "metadata": {},
   "source": [
    "# Add subvolumes"
   ]
  },
  {
   "cell_type": "code",
   "execution_count": 11,
   "metadata": {},
   "outputs": [],
   "source": [
    "def Add_subvolumes(snap=37,feedback=True,N_sub_volumes=1,data_folder='/data/dega2/dc-manz2/Galform_Out/GOSIA/'):\n",
    "    '''Read all the subvolumes (0 to N_sub_volumes) for the specified snapshot and for the specified AGN feedback scenario'''\n",
    "    u_tot = []\n",
    "    g_tot = []\n",
    "    r_tot = []\n",
    "    i_tot = []\n",
    "    z_tot = []\n",
    "    \n",
    "    B_tot = []\n",
    "    V_tot = []\n",
    "    J_tot = []\n",
    "    H_tot = []\n",
    "    K_tot = []\n",
    "    NUV_tot = []\n",
    "    FUV_tot = []\n",
    "    \n",
    "    \n",
    "    mass_tot = []\n",
    "    type_tot = []\n",
    "    for i_vol in range(N_sub_volumes):\n",
    "        \n",
    "        if feedback: \n",
    "            fb_save = 'feedback'\n",
    "        else: \n",
    "            fb_save= 'nofeedback'\n",
    "        \n",
    "        data = pd.read_csv(data_folder+'giorgio_galform_'+str(snap)+'_'+fb_save+'_vol'+str(i_vol)+'.txt',delimiter=' ')\n",
    "        #print(data['u'][0])\n",
    "\n",
    "        \n",
    "        u_tot = np.concatenate((u_tot,data['u']))\n",
    "        g_tot = np.concatenate((g_tot,data['g']))\n",
    "        r_tot = np.concatenate((r_tot,data['r']))\n",
    "        i_tot = np.concatenate((i_tot,data['i']))\n",
    "        z_tot = np.concatenate((z_tot,data['z']))\n",
    "        \n",
    "        B_tot = np.concatenate((B_tot,data['B']))\n",
    "        V_tot = np.concatenate((V_tot,data['V']))\n",
    "        J_tot = np.concatenate((J_tot,data['J']))\n",
    "        H_tot = np.concatenate((H_tot,data['H']))\n",
    "        K_tot = np.concatenate((K_tot,data['K']))\n",
    "        NUV_tot = np.concatenate((NUV_tot,data['NUV']))\n",
    "        FUV_tot = np.concatenate((FUV_tot,data['FUV']))\n",
    "\n",
    "        mass_tot = np.concatenate((mass_tot,data['stellarmass']))\n",
    "        type_tot = np.concatenate((type_tot,data['type']))\n",
    "\n",
    "        #if i_vol ==N_sub_volumes-1:\n",
    "        #    print(len(u_tot))\n",
    "        print(len(u_tot))\n",
    "        \n",
    "        \n",
    "    return u_tot,g_tot,r_tot,i_tot,z_tot,B_tot,V_tot,J_tot,H_tot,K_tot,NUV_tot,FUV_tot,mass_tot, type_tot"
   ]
  },
  {
   "cell_type": "code",
   "execution_count": 12,
   "metadata": {},
   "outputs": [
    {
     "name": "stdout",
     "output_type": "stream",
     "text": [
      "411714\n",
      "833680\n",
      "1246479\n",
      "1664890\n",
      "2091306\n",
      "2498490\n",
      "2925176\n",
      "3344178\n",
      "3756543\n",
      "4166102\n",
      "4589522\n",
      "5000707\n",
      "5428061\n",
      "5860265\n",
      "6279062\n",
      "6685809\n",
      "7099393\n",
      "7528276\n",
      "7959956\n",
      "8382144\n",
      "8795579\n",
      "9215682\n",
      "9626302\n",
      "10042631\n",
      "10470649\n",
      "10876019\n",
      "11297447\n",
      "11722726\n",
      "12154972\n",
      "12585959\n",
      "12996504\n",
      "13415696\n",
      "13837471\n",
      "14261790\n",
      "14670919\n",
      "15089562\n",
      "15516536\n",
      "15949081\n",
      "16364952\n",
      "16789878\n",
      "17205826\n",
      "17625973\n",
      "18048570\n",
      "18460587\n",
      "18892825\n",
      "19315860\n",
      "19741617\n",
      "20170401\n",
      "20590939\n",
      "21007163\n",
      "21417396\n",
      "21847129\n",
      "22264117\n",
      "22682719\n",
      "23098431\n",
      "23537977\n",
      "23956280\n",
      "24389841\n",
      "24807314\n",
      "25222109\n",
      "25639764\n",
      "26060865\n",
      "26470313\n",
      "26895387\n"
     ]
    }
   ],
   "source": [
    "u37_feed,\\\n",
    "g37_feed,\\\n",
    "r37_feed,\\\n",
    "i37_feed,\\\n",
    "z37_feed,\\\n",
    "B37_feed,\\\n",
    "V37_feed,\\\n",
    "J37_feed,\\\n",
    "H37_feed,\\\n",
    "K37_feed,\\\n",
    "NUV37_feed,\\\n",
    "FUV37_feed,\\\n",
    "mass37_feed,\\\n",
    "type37_feed    = Add_subvolumes(snap=37,feedback=True,N_sub_volumes=64)\n"
   ]
  },
  {
   "cell_type": "code",
   "execution_count": 13,
   "metadata": {},
   "outputs": [
    {
     "data": {
      "image/png": "[encoded data removed]",
      "text/plain": [
       "<Figure size 432x288 with 1 Axes>"
      ]
     },
     "metadata": {},
     "output_type": "display_data"
    }
   ],
   "source": [
    "plt.plot(V37_feed,u37_feed-V37_feed,\",\")\n",
    "plt.show()"
   ]
  },
  {
   "cell_type": "markdown",
   "metadata": {},
   "source": [
    "# COSMOLOGY"
   ]
  },
  {
   "cell_type": "code",
   "execution_count": 14,
   "metadata": {},
   "outputs": [],
   "source": [
    "def integ_trap(func,z1,z2,N=1000):\n",
    "    z = np.logspace(np.log10(z1),np.log10(z2),N)\n",
    "    y = func(z)\n",
    "\n",
    "    A = 0\n",
    "    for i in range(len(z)-1):\n",
    "        A += np.abs((z[i+1]-z[i]))*(y[i]+y[i+1])/2\n",
    "    return A\n",
    "\n",
    "def E(z,Om_rad=8.4*10**(-5),Om_lambda=0.7,Om_mat=0.3):\n",
    "    return np.sqrt(Om_rad*(1+z)**4 + Om_mat*(1+z)**3 + Om_lambda)\n",
    "\n",
    "def over_E(z):\n",
    "    return E(z)**(-1)\n",
    "\n",
    "def comoving_distance(z):\n",
    "    zero = 10**(-20)\n",
    "    c = 3e5 #km/s\n",
    "    H0=100. #km/s/Mpc\n",
    "    return (c*H0**(-1)*integ_trap(over_E,zero,z,10**(3))) #Mpc h^-1\n",
    "\n",
    "vec_r = np.vectorize(comoving_distance)\n",
    "\n",
    "def Luminosity_distance(z):\n",
    "    '''Returns the Luminosity distance in units of Mpc h^-1'''\n",
    "    return comoving_distance(z)*(1.+z)\n",
    "\n",
    "def ABSOLUTE_MAGNITUDE_minus5logh(m,z,K_correction=False,ratio_L=1.):\n",
    "    if K_correction:\n",
    "        return m -25. -5.*np.log10(Luminosity_distance(z)) -2.5*np.log10(ratio_L*(1.+z))\n",
    "    else:\n",
    "        return m -25. -5.*np.log10(Luminosity_distance(z))\n",
    "\n",
    "vec_ABSOLUTE_MAGNITUDE_minus5logh = np.vectorize(ABSOLUTE_MAGNITUDE_minus5logh)"
   ]
  },
  {
   "cell_type": "code",
   "execution_count": 15,
   "metadata": {},
   "outputs": [
    {
     "data": {
      "text/plain": [
       "-21.256565734819656"
      ]
     },
     "execution_count": 15,
     "metadata": {},
     "output_type": "execute_result"
    }
   ],
   "source": [
    "ABSOLUTE_MAGNITUDE_minus5logh(22.5,z=1.1734)"
   ]
  },
  {
   "cell_type": "code",
   "execution_count": 16,
   "metadata": {},
   "outputs": [
    {
     "data": {
      "text/plain": [
       "5987"
      ]
     },
     "execution_count": 16,
     "metadata": {},
     "output_type": "execute_result"
    }
   ],
   "source": [
    "sel_i_22_5 = np.where(i37_feed<=ABSOLUTE_MAGNITUDE_minus5logh(22.5,z=1.1734))\n",
    "len(sel_i_22_5[0])"
   ]
  },
  {
   "cell_type": "code",
   "execution_count": 17,
   "metadata": {},
   "outputs": [
    {
     "data": {
      "image/png": "[encoded data removed]",
      "text/plain": [
       "<Figure size 432x288 with 1 Axes>"
      ]
     },
     "metadata": {},
     "output_type": "display_data"
    }
   ],
   "source": [
    "plt.plot(V37_feed[sel_i_22_5],u37_feed[sel_i_22_5]-V37_feed[sel_i_22_5],\",\")\n",
    "plt.show()"
   ]
  },
  {
   "cell_type": "code",
   "execution_count": 18,
   "metadata": {},
   "outputs": [
    {
     "data": {
      "image/png": "[encoded data removed]",
      "text/plain": [
       "<Figure size 432x288 with 1 Axes>"
      ]
     },
     "metadata": {},
     "output_type": "display_data"
    }
   ],
   "source": [
    "plt.hist(V37_feed[sel_i_22_5],bins=30)\n",
    "plt.hist(V37_feed[sel_i_22_5]+5*np.log10(0.7),bins=30)\n",
    "plt.show()"
   ]
  },
  {
   "cell_type": "code",
   "execution_count": 19,
   "metadata": {},
   "outputs": [],
   "source": [
    "df37_225 = pd.DataFrame(data={'u':u37_feed[sel_i_22_5], \n",
    "                        'g':g37_feed[sel_i_22_5],\n",
    "                        'r':r37_feed[sel_i_22_5], \n",
    "                        'i':i37_feed[sel_i_22_5], \n",
    "                        'z':z37_feed[sel_i_22_5], \n",
    "                        'B':B37_feed[sel_i_22_5], \n",
    "                        'V':V37_feed[sel_i_22_5], \n",
    "                        'J':J37_feed[sel_i_22_5],\n",
    "                        'H':H37_feed[sel_i_22_5],\n",
    "                        'K':K37_feed[sel_i_22_5],\n",
    "                        'NUV':NUV37_feed[sel_i_22_5],\n",
    "                        'FUV':FUV37_feed[sel_i_22_5],\n",
    "                        'stellarmass':mass37_feed[sel_i_22_5], \n",
    "                        'type':type37_feed[sel_i_22_5] })"
   ]
  },
  {
   "cell_type": "code",
   "execution_count": 20,
   "metadata": {},
   "outputs": [],
   "source": [
    "df37_225.to_csv('/data/dega2/dc-manz2/Galform_Out/GOSIA/snap_37_i225_feed.txt' ,index=None,sep=' ')"
   ]
  },
  {
   "cell_type": "code",
   "execution_count": 32,
   "metadata": {},
   "outputs": [
    {
     "data": {
      "image/png": "[encoded data removed]",
      "text/plain": [
       "<Figure size 720x576 with 1 Axes>"
      ]
     },
     "metadata": {},
     "output_type": "display_data"
    }
   ],
   "source": [
    "plt.figure(figsize=(10,8))\n",
    "plt.hist(u37_feed[sel_i_22_5]+5*np.log10(0.7),bins=30,histtype='step',lw=3,label='u')\n",
    "plt.hist(g37_feed[sel_i_22_5]+5*np.log10(0.7),bins=30,histtype='step',lw=3,label='g')\n",
    "plt.hist(r37_feed[sel_i_22_5]+5*np.log10(0.7),bins=30,histtype='step',lw=3,label='r')\n",
    "plt.hist(i37_feed[sel_i_22_5]+5*np.log10(0.7),bins=30,histtype='step',lw=3,label='i')\n",
    "plt.hist(g37_feed[sel_i_22_5]+5*np.log10(0.7),bins=30,histtype='step',lw=3,label='z')\n",
    "plt.hist(B37_feed[sel_i_22_5]+5*np.log10(0.7),bins=30,histtype='step',lw=3,label='B')\n",
    "plt.hist(V37_feed[sel_i_22_5]+5*np.log10(0.7),bins=30,histtype='step',lw=3,label='V')\n",
    "plt.hist(J37_feed[sel_i_22_5]+5*np.log10(0.7),bins=30,histtype='step',lw=3,label='J')\n",
    "plt.hist(H37_feed[sel_i_22_5]+5*np.log10(0.7),bins=30,histtype='step',lw=3,label='H')\n",
    "plt.hist(K37_feed[sel_i_22_5]+5*np.log10(0.7),bins=30,histtype='step',lw=3,label='K')\n",
    "plt.hist(NUV37_feed[sel_i_22_5]+5*np.log10(0.7),bins=30,histtype='step',lw=3,label='NUV')\n",
    "plt.hist(FUV37_feed[sel_i_22_5]+5*np.log10(0.7),bins=30,histtype='step',lw=3,label='FUV')\n",
    "plt.legend(fontsize='xx-small')\n",
    "plt.xlabel(r'mag $+ 5 \\, \\log_{10}(h = 0.7)$')\n",
    "plt.ylabel('counts')\n",
    "plt.title(r'snapshot 37 ($z=1.1734$)')\n",
    "plt.savefig('./plots/gosia_magnitudes_snap37_feed.png')\n",
    "plt.show()"
   ]
  },
  {
   "cell_type": "code",
   "execution_count": 62,
   "metadata": {},
   "outputs": [
    {
     "data": {
      "text/plain": [
       "(-30.0, 0.0)"
      ]
     },
     "execution_count": 62,
     "metadata": {},
     "output_type": "execute_result"
    },
    {
     "data": {
      "image/png": "[encoded data removed]",
      "text/plain": [
       "<Figure size 432x288 with 1 Axes>"
      ]
     },
     "metadata": {},
     "output_type": "display_data"
    }
   ],
   "source": [
    "plt.hist(V37_feed[sel_i_22_5]+5*np.log10(0.7),bins=400,histtype='step',lw=3,label='V')\n",
    "plt.xlim(-30.,0.)"
   ]
  },
  {
   "cell_type": "code",
   "execution_count": null,
   "metadata": {},
   "outputs": [],
   "source": []
  }
 ],
 "metadata": {
  "kernelspec": {
   "display_name": "Python 3",
   "language": "python",
   "name": "python3"
  },
  "language_info": {
   "codemirror_mode": {
    "name": "ipython",
    "version": 3
   },
   "file_extension": ".py",
   "mimetype": "text/x-python",
   "name": "python",
   "nbconvert_exporter": "python",
   "pygments_lexer": "ipython3",
   "version": "3.6.5"
  }
 },
 "nbformat": 4,
 "nbformat_minor": 2
}
